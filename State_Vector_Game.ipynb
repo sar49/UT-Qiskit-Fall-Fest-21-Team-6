{
 "cells": [
  {
   "cell_type": "code",
   "execution_count": 3,
   "metadata": {},
   "outputs": [],
   "source": [
    "from qiskit import *\n",
    "from qiskit.visualization import plot_bloch_multivector\n",
    "import random\n",
    "import numpy as np\n",
    "from qiskit.quantum_info import Statevector"
   ]
  },
  {
   "cell_type": "code",
   "execution_count": 4,
   "metadata": {},
   "outputs": [],
   "source": [
    "# set your diff between 1 and 3 inclusive \n",
    "diff = 2\n",
    "end_state = QuantumCircuit(1)\n",
    "user_qub = QuantumCircuit(1)\n",
    "back = Aer.get_backend(\"statevector_simulator\")"
   ]
  },
  {
   "cell_type": "code",
   "execution_count": 5,
   "metadata": {},
   "outputs": [],
   "source": [
    "def Tdg(circuit, targ_qub):\n",
    "    rand_num = random.randrange(1, 9, 2)\n",
    "    for i in range (rand_num):\n",
    "        circuit.tdg(targ_qub)\n",
    "\n",
    "def T(circuit, targ_qub):\n",
    "    rand_num = random.randrange(1, 9, 2)\n",
    "    for i in range (rand_num):\n",
    "        circuit.t(targ_qub)\n",
    "    \n",
    "def Sdg(circuit, targ_qub):\n",
    "    rand_num = random.randrange(1, 5, 2)\n",
    "    for i in range (rand_num):\n",
    "        circuit.sdg(targ_qub)\n",
    "\n",
    "def S(circuit, targ_qub):\n",
    "    rand_num = random.randrange(1, 5, 2)\n",
    "    for i in range (rand_num):\n",
    "        circuit.s(targ_qub)\n",
    "    \n",
    "def Sx(circuit, targ_qub):\n",
    "    rand_num = random.randrange(1, 5, 2)\n",
    "    for i in range (rand_num):\n",
    "        circuit.sx(targ_qub)\n",
    "\n",
    "def Sxdg(circuit, targ_qub):\n",
    "    rand_num = random.randrange(1, 5, 2)\n",
    "    for i in range (rand_num):\n",
    "        circuit.sxdg(targ_qub)\n",
    "        \n",
    "def I(circuit, targ_qub):\n",
    "    circuit.i(targ_qub)\n",
    "\n",
    "def H(circuit, targ_qub):\n",
    "    circuit.h(targ_qub)\n",
    "    \n",
    "def X(circuit, targ_qub):\n",
    "    circuit.x(targ_qub)\n",
    "\n",
    "def Y(circuit, targ_qub):\n",
    "    circuit.y(targ_qub)\n",
    "    \n",
    "def Z(circuit, targ_qub):\n",
    "     circuit.z(targ_qub)\n",
    "\n",
    "        \n",
    "def run_game(s, diff):\n",
    "    # possible gates that user can apply\n",
    "    problem_3_set_up = [Tdg, T, Sdg, S, Sx, Sxdg, H, X, Y, Z]\n",
    "    problem_2_set_up = [Sdg, S, Sx, Sxdg, H, X, Y, Z]\n",
    "    problem_1_set_up = [H, X, Y, Z]\n",
    "    gate_list = problem_3_set_up\n",
    "    if diff == 2:\n",
    "        gate_list = problem_2_set_up\n",
    "    elif diff == 1:\n",
    "        gate_list = problem_1_set_up\n",
    "    for i in range (4):\n",
    "        rand_func = random.choice(gate_list)\n",
    "        rand_func(s, 0)\n",
    "\n",
    "# checks to see if the end_state qubit and user qubit are equivalent\n",
    "def is_solved(qub0, qub1):\n",
    "    # compares state vectors\n",
    "    if (Statevector.from_instruction(qub0).equiv(Statevector.from_instruction(qub1))):\n",
    "        print(\"You got to the target state!\")\n",
    "    else:\n",
    "        print(\"Oop, try again\")"
   ]
  },
  {
   "cell_type": "code",
   "execution_count": 6,
   "metadata": {
    "scrolled": true
   },
   "outputs": [],
   "source": [
    "# DO NOT REMOVE\n",
    "end_state = QuantumCircuit(1)\n",
    "user_qub = QuantumCircuit(1)\n",
    "run_game(end_state, diff)\n",
    "run_game(user_qub, diff)\n",
    "\n",
    "state_vec = execute(end_state, backend = back).result().get_statevector()\n",
    "plot_bloch_multivector(state_vec)"
   ]
  },
  {
   "cell_type": "code",
   "execution_count": 1,
   "metadata": {},
   "outputs": [],
   "source": [
    "# call the desired gate in the form of user_qub.<GATE_NAME>(0) then run\n",
    "# if the solution is already present, then apply the I gate and proceed\n",
    "# once you think you got to your answer, run the folowing line of code to check\n",
    "# is_solved(end_state, user_qub)\n",
    "\n",
    "# apply your gate above\n",
    "state_vec = execute(user_qub, backend = back).result().get_statevector()\n",
    "plot_bloch_multivector(state_vec)"
   ]
  },
  {
   "cell_type": "code",
   "execution_count": null,
   "metadata": {},
   "outputs": [],
   "source": [
    "\n",
    "# apply your gate above\n",
    "state_vec = execute(user_qub, backend = back).result().get_statevector()\n",
    "plot_bloch_multivector(state_vec)"
   ]
  },
  {
   "cell_type": "code",
   "execution_count": null,
   "metadata": {},
   "outputs": [],
   "source": [
    "\n",
    "# apply your gate above\n",
    "state_vec = execute(user_qub, backend = back).result().get_statevector()\n",
    "plot_bloch_multivector(state_vec)"
   ]
  },
  {
   "cell_type": "code",
   "execution_count": null,
   "metadata": {},
   "outputs": [],
   "source": [
    "\n",
    "# apply your gate above\n",
    "state_vec = execute(user_qub, backend = back).result().get_statevector()\n",
    "plot_bloch_multivector(state_vec)\n",
    "# if you need more tries, copy the above two\n",
    "# lines and copy your gate as usual"
   ]
  }
 ],
 "metadata": {
  "kernelspec": {
   "display_name": "Python 3",
   "language": "python",
   "name": "python3"
  },
  "language_info": {
   "codemirror_mode": {
    "name": "ipython",
    "version": 3
   },
   "file_extension": ".py",
   "mimetype": "text/x-python",
   "name": "python",
   "nbconvert_exporter": "python",
   "pygments_lexer": "ipython3",
   "version": "3.8.8"
  }
 },
 "nbformat": 4,
 "nbformat_minor": 2
}
